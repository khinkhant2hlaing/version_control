{
 "cells": [
  {
   "cell_type": "code",
   "execution_count": 2,
   "metadata": {},
   "outputs": [],
   "source": [
    "from bs4 import BeautifulSoup\n",
    "from selenium import webdriver"
   ]
  },
  {
   "cell_type": "code",
   "execution_count": 3,
   "metadata": {},
   "outputs": [],
   "source": [
    "def create_txt(item_list, fname):\n",
    "    f = open(fname, \"a\")\n",
    "    for i in item_list:\n",
    "        f.write(f'{i} \\n')\n",
    "\n",
    "def get_link_from_soup(soup):\n",
    "    div = soup.findAll('div', {'class':'article-list--top latest'})[0]\n",
    "    wanted_divs = div.findAll('article', {'class':'list articleList'})\n",
    "    link_list = []\n",
    "\n",
    "    for article_div in wanted_divs:\n",
    "        link = article_div.find('a', {'class':'link'})\n",
    "        link = 'https://beauty.hotpepper.jp' + str(link['href'])\n",
    "        link_list.append(link)        \n",
    "    return link_list"
   ]
  },
  {
   "cell_type": "code",
   "execution_count": null,
   "metadata": {},
   "outputs": [],
   "source": [
    "page_url = 'https://beauty.hotpepper.jp/magazine/'"
   ]
  },
  {
   "cell_type": "code",
   "execution_count": 4,
   "metadata": {},
   "outputs": [
    {
     "name": "stderr",
     "output_type": "stream",
     "text": [
      "C:\\Users\\admin\\AppData\\Local\\Temp\\ipykernel_12668\\1754428283.py:2: DeprecationWarning: executable_path has been deprecated, please pass in a Service object\n",
      "  driver = webdriver.Chrome(driver_path)\n"
     ]
    }
   ],
   "source": [
    "driver_path = r'Chrome_driver\\chromedriver.exe'\n",
    "driver = webdriver.Chrome(driver_path)\n",
    "driver.get(page_url)\n",
    "htmlContent = driver.page_source\n",
    "soup =  BeautifulSoup(htmlContent,'html.parser')\n",
    "driver.close()"
   ]
  },
  {
   "cell_type": "code",
   "execution_count": 7,
   "metadata": {},
   "outputs": [
    {
     "name": "stdout",
     "output_type": "stream",
     "text": [
      "total links :  30\n"
     ]
    }
   ],
   "source": [
    "scraped_list = get_link_from_soup(soup)\n",
    "dist_links = list(set(scraped_list))\n",
    "print('total links : ', len(dist_links))\n",
    "create_txt(item_list=dist_links, fname='beauty.txt')"
   ]
  },
  {
   "cell_type": "code",
   "execution_count": null,
   "metadata": {},
   "outputs": [],
   "source": []
  }
 ],
 "metadata": {
  "kernelspec": {
   "display_name": "Python 3.9.12 ('base')",
   "language": "python",
   "name": "python3"
  },
  "language_info": {
   "codemirror_mode": {
    "name": "ipython",
    "version": 3
   },
   "file_extension": ".py",
   "mimetype": "text/x-python",
   "name": "python",
   "nbconvert_exporter": "python",
   "pygments_lexer": "ipython3",
   "version": "3.9.12"
  },
  "orig_nbformat": 4,
  "vscode": {
   "interpreter": {
    "hash": "ffdbdde1c7f3cb0c6e4302d47b8b69bbc9567b6e444b9944e0284485fba4246d"
   }
  }
 },
 "nbformat": 4,
 "nbformat_minor": 2
}
